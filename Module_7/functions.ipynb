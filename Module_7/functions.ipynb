{
 "cells": [
  {
   "cell_type": "markdown",
   "id": "950cbd5f-89fd-4b4a-9943-973519514667",
   "metadata": {},
   "source": [
    "Używamy słowa \"def\""
   ]
  },
  {
   "cell_type": "code",
   "execution_count": 3,
   "id": "727079d1-6a9a-4a3f-9501-a69634f3b9cd",
   "metadata": {},
   "outputs": [],
   "source": [
    "def add_no(a, b):\n",
    "    return a + b"
   ]
  },
  {
   "cell_type": "markdown",
   "id": "838aaf8d-0fbc-4333-bce2-4f6e11a38c7e",
   "metadata": {},
   "source": [
    "Aby wywołać funkcję używamy nawiasów okrgłych<!--  -->"
   ]
  },
  {
   "cell_type": "code",
   "execution_count": 4,
   "id": "76ae425b-dc61-4b92-b163-a476f17e9f1e",
   "metadata": {},
   "outputs": [
    {
     "name": "stdout",
     "output_type": "stream",
     "text": [
      "15\n"
     ]
    }
   ],
   "source": [
    "a = 5\n",
    "b = 10\n",
    "\n",
    "print(add_no(a, b))"
   ]
  }
 ],
 "metadata": {
  "kernelspec": {
   "display_name": "Python 3 (ipykernel)",
   "language": "python",
   "name": "python3"
  },
  "language_info": {
   "codemirror_mode": {
    "name": "ipython",
    "version": 3
   },
   "file_extension": ".py",
   "mimetype": "text/x-python",
   "name": "python",
   "nbconvert_exporter": "python",
   "pygments_lexer": "ipython3",
   "version": "3.12.2"
  }
 },
 "nbformat": 4,
 "nbformat_minor": 5
}
